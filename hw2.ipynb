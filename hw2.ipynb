{
 "cells": [
  {
   "cell_type": "code",
   "execution_count": 1,
   "metadata": {},
   "outputs": [],
   "source": [
    "import numpy as np"
   ]
  },
  {
   "cell_type": "code",
   "execution_count": 2,
   "metadata": {},
   "outputs": [],
   "source": [
    "class DecisionStump:\n",
    "    def __init__(self, size, tau):\n",
    "        self.__size = size\n",
    "        self.__tau = tau\n",
    "    \n",
    "    def generate_data(self):\n",
    "        x = np.random.uniform(-1,1,self.__size)\n",
    "        x.sort()\n",
    "        y = np.zeros(self.__size)\n",
    "        for i in range(self.__size):\n",
    "            # target function: sign(x)\n",
    "            if (x[i]>0):\n",
    "                y[i] = 1\n",
    "            else:\n",
    "                y[i] = -1\n",
    "            # flip\n",
    "            if (np.random.random(1) < self.__tau):\n",
    "                y[i] *= -1\n",
    "        # print(x,y)\n",
    "        return x, y\n",
    "    \n",
    "    def error_calc_stupid_method(self, x, y):\n",
    "        min_ein = np.inf\n",
    "        g_theta = 0\n",
    "        g_s = 0\n",
    "        h = np.zeros(self.__size)\n",
    "        \n",
    "        theta = -1\n",
    "        s = 1\n",
    "        cur_error = 0\n",
    "        for i in range(self.__size):\n",
    "            if ((x[i]-theta)>0):\n",
    "                h[i] = s\n",
    "            else:\n",
    "                h[i] = -s\n",
    "            if(h[i] != y[i]):\n",
    "                cur_error += 1\n",
    "        if (cur_error < min_ein):\n",
    "            min_ein = cur_error\n",
    "            g_theta = theta\n",
    "            g_s = s\n",
    "        elif ((cur_error == min_ein) & ((s+theta) < (g_s+g_theta))):\n",
    "            g_theta = theta\n",
    "            g_s = s\n",
    "        \n",
    "        s = -1\n",
    "        cur_error = 0\n",
    "        for i in range(self.__size):\n",
    "            if ((x[i]-theta)>0):\n",
    "                h[i] = s\n",
    "            else:\n",
    "                h[i] = -s\n",
    "            if(h[i] != y[i]):\n",
    "                cur_error += 1\n",
    "        if (cur_error < min_ein):\n",
    "            min_ein = cur_error\n",
    "            g_theta = theta\n",
    "            g_s = s\n",
    "        elif ((cur_error == min_ein) & ((s+theta) < (g_s+g_theta))):\n",
    "            g_theta = theta\n",
    "            g_s = s\n",
    "            \n",
    "        for i in range(self.__size-1):\n",
    "            theta = (x[i] + x[i+1]) / 2\n",
    "            s = 1\n",
    "            cur_error = 0\n",
    "            for i in range(self.__size):\n",
    "                if ((x[i]-theta)>0):\n",
    "                    h[i] = s\n",
    "                else:\n",
    "                    h[i] = -s\n",
    "                if(h[i] != y[i]):\n",
    "                    cur_error += 1\n",
    "            if (cur_error < min_ein):\n",
    "                min_ein = cur_error\n",
    "                g_theta = theta\n",
    "                g_s = s\n",
    "            elif ((cur_error == min_ein) & ((s+theta) < (g_s+g_theta))):\n",
    "                g_theta = theta\n",
    "                g_s = s\n",
    "\n",
    "            s = -1\n",
    "            cur_error = 0\n",
    "            for i in range(self.__size):\n",
    "                if ((x[i]-theta)>0):\n",
    "                    h[i] = s\n",
    "                else:\n",
    "                    h[i] = -s\n",
    "                if(h[i] != y[i]):\n",
    "                    cur_error += 1\n",
    "            if (cur_error < min_ein):\n",
    "                min_ein = cur_error\n",
    "                g_theta = theta\n",
    "                g_s = s\n",
    "            elif ((cur_error == min_ein) & ((s+theta) < (g_s+g_theta))):\n",
    "                g_theta = theta\n",
    "                g_s = s\n",
    "        min_ein /= self.__size\n",
    "        eout_zero = (1-g_s*(1-abs(g_theta)))/2\n",
    "        eout_tau = (1-self.__tau*2)*eout_zero+self.__tau\n",
    "        err = eout_tau-min_ein\n",
    "        # print(\"g_theta:\", g_theta, \", g_s:\", g_s)\n",
    "        # print(\"min_ein:\", min_ein)\n",
    "        # print(\"eout_zero:\", eout_zero, \", eout_tau:\", eout_tau)\n",
    "        # print(\"err:\", err)\n",
    "        return err\n",
    "    def error_calc_dp_attempt(self, x, y):        \n",
    "        # start with theta = -1, s = 1\n",
    "        g_theta = -1\n",
    "        g_s = 1\n",
    "        # all y=-1 is error\n",
    "        cur_error = sum(y==-1)\n",
    "        # for now it is the smallest\n",
    "        min_ein = cur_error\n",
    "        if (cur_error > (self.__size/2)):\n",
    "            # means should use s = -1\n",
    "            g_s = -1\n",
    "            min_ein = self.__size-cur_error\n",
    "            \n",
    "        # other cases\n",
    "        for i in range(self.__size-1):\n",
    "            theta = (x[i] + x[i+1]) / 2\n",
    "            # start with s = 1\n",
    "            # use cur_error as the previous one's error\n",
    "            # the only difference is y[i]\n",
    "            if(y[i] == 1):\n",
    "                cur_error += 1\n",
    "            else:\n",
    "                cur_error -= 1\n",
    "            \n",
    "            if (cur_error < min_ein):\n",
    "                min_ein = cur_error\n",
    "                g_theta = theta\n",
    "                g_s = 1\n",
    "            elif ((cur_error == min_ein) & ((1+theta) < (g_s+g_theta))):\n",
    "                g_theta = theta\n",
    "                g_s = 1\n",
    "            \n",
    "            # try s = -1\n",
    "            if ((cur_error > (self.__size/2))):\n",
    "                if ((self.__size-cur_error) < min_ein):\n",
    "                    min_ein = self.__size-cur_error\n",
    "                    g_theta = theta\n",
    "                    g_s = -1\n",
    "                elif (((self.__size-cur_error) == min_ein) & ((theta-1) < (g_s+g_theta))):\n",
    "                    g_theta = theta\n",
    "                    g_s = -1\n",
    "            \n",
    "        min_ein /= self.__size\n",
    "        eout_zero = (1-g_s*(1-abs(g_theta)))/2\n",
    "        eout_tau = (1-self.__tau*2)*eout_zero+self.__tau\n",
    "        err = eout_tau-min_ein\n",
    "        # print(\"g_theta:\", g_theta, \", g_s:\", g_s)\n",
    "        # print(\"min_ein:\", min_ein)\n",
    "        # print(\"eout_zero:\", eout_zero, \", eout_tau:\", eout_tau)\n",
    "        # print(\"err:\", err)\n",
    "        return err"
   ]
  },
  {
   "cell_type": "markdown",
   "metadata": {},
   "source": [
    "### I will use two method to calculate error for double checking."
   ]
  },
  {
   "cell_type": "markdown",
   "metadata": {},
   "source": [
    "## 16"
   ]
  },
  {
   "cell_type": "code",
   "execution_count": 3,
   "metadata": {},
   "outputs": [
    {
     "name": "stdout",
     "output_type": "stream",
     "text": [
      "0.2925125547381981 (by a naive implementation (straight forward but stupid))\n",
      "0.2925125547381981 (by a dp attempt)\n"
     ]
    }
   ],
   "source": [
    "ds = DecisionStump(2,0)\n",
    "total_error_stupid = 0\n",
    "total_error_dp = 0\n",
    "for _ in range(10000):\n",
    "    x, y = ds.generate_data()\n",
    "    total_error_stupid += ds.error_calc_stupid_method(x, y)\n",
    "    total_error_dp += ds.error_calc_dp_attempt(x, y)\n",
    "print(total_error_stupid/10000, \"(by a naive implementation (straight forward but stupid))\")\n",
    "print(total_error_dp/10000, \"(by a dp attempt)\")"
   ]
  },
  {
   "cell_type": "markdown",
   "metadata": {},
   "source": [
    "## 17"
   ]
  },
  {
   "cell_type": "code",
   "execution_count": 4,
   "metadata": {},
   "outputs": [
    {
     "name": "stdout",
     "output_type": "stream",
     "text": [
      "0.023679686692862443 (by a naive implementation (straight forward but stupid))\n",
      "0.023679686692862443 (by a dp attempt)\n"
     ]
    }
   ],
   "source": [
    "ds = DecisionStump(20,0)\n",
    "total_error_stupid = 0\n",
    "total_error_dp = 0\n",
    "for _ in range(10000):\n",
    "    x, y = ds.generate_data()\n",
    "    total_error_stupid += ds.error_calc_stupid_method(x, y)\n",
    "    total_error_dp += ds.error_calc_dp_attempt(x, y)\n",
    "print(total_error_stupid/10000, \"(by a naive implementation (straight forward but stupid))\")\n",
    "print(total_error_dp/10000, \"(by a dp attempt)\")"
   ]
  },
  {
   "cell_type": "markdown",
   "metadata": {},
   "source": [
    "## 18"
   ]
  },
  {
   "cell_type": "code",
   "execution_count": 5,
   "metadata": {},
   "outputs": [
    {
     "name": "stdout",
     "output_type": "stream",
     "text": [
      "0.36517235547246246 (by a naive implementation (straight forward but stupid))\n",
      "0.36517235547246246 (by a dp attempt)\n"
     ]
    }
   ],
   "source": [
    "ds = DecisionStump(2,0.1)\n",
    "total_error_stupid = 0\n",
    "total_error_dp = 0\n",
    "for _ in range(10000):\n",
    "    x, y = ds.generate_data()\n",
    "    total_error_stupid += ds.error_calc_stupid_method(x, y)\n",
    "    total_error_dp += ds.error_calc_dp_attempt(x, y)\n",
    "print(total_error_stupid/10000, \"(by a naive implementation (straight forward but stupid))\")\n",
    "print(total_error_dp/10000, \"(by a dp attempt)\")"
   ]
  },
  {
   "cell_type": "markdown",
   "metadata": {},
   "source": [
    "## 19"
   ]
  },
  {
   "cell_type": "code",
   "execution_count": 6,
   "metadata": {},
   "outputs": [
    {
     "name": "stdout",
     "output_type": "stream",
     "text": [
      "0.05212226419020758 (by a naive implementation (straight forward but stupid))\n",
      "0.05212226419020758 (by a dp attempt)\n"
     ]
    }
   ],
   "source": [
    "ds = DecisionStump(20,0.1)\n",
    "total_error_stupid = 0\n",
    "total_error_dp = 0\n",
    "for _ in range(10000):\n",
    "    x, y = ds.generate_data()\n",
    "    total_error_stupid += ds.error_calc_stupid_method(x, y)\n",
    "    total_error_dp += ds.error_calc_dp_attempt(x, y)\n",
    "print(total_error_stupid/10000, \"(by a naive implementation (straight forward but stupid))\")\n",
    "print(total_error_dp/10000, \"(by a dp attempt)\")"
   ]
  },
  {
   "cell_type": "markdown",
   "metadata": {},
   "source": [
    "## 20"
   ]
  },
  {
   "cell_type": "code",
   "execution_count": 7,
   "metadata": {},
   "outputs": [
    {
     "name": "stdout",
     "output_type": "stream",
     "text": [
      "0.005314000381141413 (by a naive implementation (straight forward but stupid))\n",
      "0.005314000381141413 (by a dp attempt)\n"
     ]
    }
   ],
   "source": [
    "ds = DecisionStump(200,0.1)\n",
    "total_error_stupid = 0\n",
    "total_error_dp = 0\n",
    "for _ in range(10000):\n",
    "    x, y = ds.generate_data()\n",
    "    total_error_stupid += ds.error_calc_stupid_method(x, y)\n",
    "    total_error_dp += ds.error_calc_dp_attempt(x, y)\n",
    "print(total_error_stupid/10000, \"(by a naive implementation (straight forward but stupid))\")\n",
    "print(total_error_dp/10000, \"(by a dp attempt)\")"
   ]
  }
 ],
 "metadata": {
  "kernelspec": {
   "display_name": "Python 3",
   "language": "python",
   "name": "python3"
  },
  "language_info": {
   "codemirror_mode": {
    "name": "ipython",
    "version": 3
   },
   "file_extension": ".py",
   "mimetype": "text/x-python",
   "name": "python",
   "nbconvert_exporter": "python",
   "pygments_lexer": "ipython3",
   "version": "3.7.3"
  }
 },
 "nbformat": 4,
 "nbformat_minor": 2
}
