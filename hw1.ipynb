{
 "cells": [
  {
   "cell_type": "code",
   "execution_count": 1,
   "metadata": {},
   "outputs": [],
   "source": [
    "import numpy as np\n",
    "import random\n",
    "from statistics import median"
   ]
  },
  {
   "cell_type": "code",
   "execution_count": 2,
   "metadata": {},
   "outputs": [],
   "source": [
    "data = np.loadtxt('hw1_train.dat')"
   ]
  },
  {
   "cell_type": "code",
   "execution_count": 3,
   "metadata": {},
   "outputs": [
    {
     "name": "stdout",
     "output_type": "stream",
     "text": [
      "[[ 1.56186 -2.54905 -1.98638 ...  1.32496 -2.26376 -1.     ]\n",
      " [ 3.89045 -0.02852  2.2065  ... -2.31854 -1.40395 -1.     ]\n",
      " [-1.85626 -1.38071 -0.0755  ... -2.35446 -1.43411  1.     ]\n",
      " ...\n",
      " [-3.8145   0.89167 -2.15984 ... -1.57172  0.15997  1.     ]\n",
      " [-2.11276 -1.91391 -0.63889 ... -3.45234 -1.29036  1.     ]\n",
      " [-2.50787 -1.02966  0.5274  ...  1.14198  0.64107 -1.     ]]\n",
      "(100, 11)\n"
     ]
    }
   ],
   "source": [
    "print(data)\n",
    "print(data.shape)"
   ]
  },
  {
   "cell_type": "code",
   "execution_count": 4,
   "metadata": {},
   "outputs": [],
   "source": [
    "class PLA:\n",
    "    def __init__(self, dataset, x_0, scale = 1):\n",
    "        # initialize with w = 0\n",
    "        self.__w = np.zeros(dataset.shape[1])\n",
    "        # add x_0 to every x_n (scale if needed)\n",
    "        self.__x = np.hstack([np.full((dataset.shape[0], 1), x_0 * scale), (dataset[:, :-1] * scale)])\n",
    "        self.__y = dataset[:, -1]\n",
    "        self.__N = dataset.shape[0]\n",
    "        self.__updates = 0\n",
    "        \n",
    "    def _check_error(self, n):\n",
    "        if((self.__y[n] * (self.__w @ self.__x[n])) <= 0):\n",
    "            self.__w += self.__y[n] * self.__x[n]\n",
    "            return True\n",
    "        else:\n",
    "            return False \n",
    "        \n",
    "    def run(self):\n",
    "        # reset w and updates\n",
    "        self.__w.fill(0)\n",
    "        self.__updates = 0\n",
    "        # Stop updating and return w_t as w_PLA if w_t is correct consecutively after checking 5N randomly-picked examples\n",
    "        consecutive_correct = 0\n",
    "        while(consecutive_correct < (5 * self.__N)):\n",
    "            # randomly picks an example\n",
    "            if(self._check_error(random.randrange(self.__N))):\n",
    "                consecutive_correct = 0\n",
    "                self.__updates += 1\n",
    "            else:\n",
    "                consecutive_correct += 1\n",
    "                \n",
    "    def w_PLA(self):\n",
    "        if (self.__updates == 0):\n",
    "            raise Exception('PLA not runned yet!')\n",
    "        return self.__w\n",
    "    \n",
    "    def updates(self):\n",
    "        return self.__updates"
   ]
  },
  {
   "cell_type": "markdown",
   "metadata": {},
   "source": [
    "### Problem 16, 17"
   ]
  },
  {
   "cell_type": "code",
   "execution_count": 5,
   "metadata": {},
   "outputs": [
    {
     "name": "stdout",
     "output_type": "stream",
     "text": [
      "11.0\n",
      "-7.0\n"
     ]
    }
   ],
   "source": [
    "p = PLA(data, 1)\n",
    "updatesList = []\n",
    "w0List = []\n",
    "for _ in range(1000):\n",
    "    p.run()\n",
    "    updatesList.append(p.updates())\n",
    "    w0List.append(p.w_PLA()[0])\n",
    "print(median(updatesList))\n",
    "print(median(w0List))"
   ]
  },
  {
   "cell_type": "markdown",
   "metadata": {},
   "source": [
    "### Problem 18"
   ]
  },
  {
   "cell_type": "code",
   "execution_count": 6,
   "metadata": {},
   "outputs": [
    {
     "name": "stdout",
     "output_type": "stream",
     "text": [
      "14.0\n"
     ]
    }
   ],
   "source": [
    "p = PLA(data, 10)\n",
    "updatesList = []\n",
    "for _ in range(1000):\n",
    "    p.run()\n",
    "    updatesList.append(p.updates())\n",
    "print(median(updatesList))"
   ]
  },
  {
   "cell_type": "markdown",
   "metadata": {},
   "source": [
    "### Problem 19"
   ]
  },
  {
   "cell_type": "code",
   "execution_count": 7,
   "metadata": {},
   "outputs": [
    {
     "name": "stdout",
     "output_type": "stream",
     "text": [
      "17.0\n"
     ]
    }
   ],
   "source": [
    "p = PLA(data, 0)\n",
    "updatesList = []\n",
    "for _ in range(1000):\n",
    "    p.run()\n",
    "    updatesList.append(p.updates())\n",
    "print(median(updatesList))"
   ]
  },
  {
   "cell_type": "markdown",
   "metadata": {},
   "source": [
    "### Problem 20"
   ]
  },
  {
   "cell_type": "code",
   "execution_count": 8,
   "metadata": {},
   "outputs": [
    {
     "name": "stdout",
     "output_type": "stream",
     "text": [
      "17.0\n"
     ]
    }
   ],
   "source": [
    "p = PLA(data, 0, 1/4)\n",
    "updatesList = []\n",
    "for _ in range(1000):\n",
    "    p.run()\n",
    "    updatesList.append(p.updates())\n",
    "print(median(updatesList))"
   ]
  }
 ],
 "metadata": {
  "kernelspec": {
   "display_name": "Python 3",
   "language": "python",
   "name": "python3"
  },
  "language_info": {
   "codemirror_mode": {
    "name": "ipython",
    "version": 3
   },
   "file_extension": ".py",
   "mimetype": "text/x-python",
   "name": "python",
   "nbconvert_exporter": "python",
   "pygments_lexer": "ipython3",
   "version": "3.7.3"
  }
 },
 "nbformat": 4,
 "nbformat_minor": 2
}
