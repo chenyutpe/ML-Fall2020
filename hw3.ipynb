{
 "cells": [
  {
   "cell_type": "code",
   "execution_count": 1,
   "metadata": {},
   "outputs": [],
   "source": [
    "import numpy as np\n",
    "from sklearn.metrics import mean_squared_error"
   ]
  },
  {
   "cell_type": "code",
   "execution_count": 2,
   "metadata": {},
   "outputs": [],
   "source": [
    "data_train = np.loadtxt('hw3_train.dat')\n",
    "data_test = np.loadtxt('hw3_test.dat')"
   ]
  },
  {
   "cell_type": "code",
   "execution_count": 3,
   "metadata": {},
   "outputs": [
    {
     "name": "stdout",
     "output_type": "stream",
     "text": [
      "[[ 2.965153  2.447427  1.958754 ... -4.510862 -0.006392 -1.      ]\n",
      " [-4.303194 -0.032933  2.568076 ... -0.949456 -0.744622 -1.      ]\n",
      " [-0.261568  0.974854 -1.132005 ...  2.728657  4.001672 -1.      ]\n",
      " ...\n",
      " [-3.106073 -0.425107 -4.141368 ... -1.741274  1.479998 -1.      ]\n",
      " [ 3.665836  3.401544 -0.779725 ...  2.058829  1.474205  1.      ]\n",
      " [ 1.74612   2.365236 -2.501292 ...  3.269879 -0.259019  1.      ]]\n",
      "(1000, 11) \n",
      "\n",
      "[[ 1.406809  1.629765  0.137603 ... -0.019709  0.200252  1.      ]\n",
      " [-4.507169 -0.944514 -1.634057 ...  3.074277  1.056912  1.      ]\n",
      " [-1.559574 -4.985006  0.946881 ...  2.908434  0.312697 -1.      ]\n",
      " ...\n",
      " [-1.019819  0.524448  0.617346 ...  1.389058  1.085457  1.      ]\n",
      " [ 1.42676  -1.123184  1.323768 ... -3.147399 -1.061905 -1.      ]\n",
      " [-1.098224  3.060828  0.935526 ...  0.476239 -4.390546  1.      ]]\n",
      "(3000, 11)\n"
     ]
    }
   ],
   "source": [
    "print(data_train)\n",
    "print(data_train.shape, '\\n')\n",
    "print(data_test)\n",
    "print(data_test.shape)"
   ]
  },
  {
   "cell_type": "markdown",
   "metadata": {},
   "source": [
    "## 14"
   ]
  },
  {
   "cell_type": "code",
   "execution_count": 4,
   "metadata": {},
   "outputs": [],
   "source": [
    "def data_construct(dataset):\n",
    "    X = np.hstack([np.full((dataset.shape[0], 1), 1), (dataset[:, :-1])])\n",
    "    y = dataset[:, -1]\n",
    "    return X, y\n",
    "\n",
    "def w_linear_regression(X, y):\n",
    "    return ((np.linalg.pinv(X.T@X) @ X.T) @ y)"
   ]
  },
  {
   "cell_type": "code",
   "execution_count": 5,
   "metadata": {},
   "outputs": [
    {
     "data": {
      "text/plain": [
       "0.6053223804672917"
      ]
     },
     "execution_count": 5,
     "metadata": {},
     "output_type": "execute_result"
    }
   ],
   "source": [
    "X_train, y_train = data_construct(data_train)\n",
    "w_lin = w_linear_regression(X_train, y_train)\n",
    "ein_sqr = mean_squared_error(y_train, X_train@w_lin)\n",
    "ein_sqr"
   ]
  },
  {
   "cell_type": "markdown",
   "metadata": {},
   "source": [
    "## 15"
   ]
  },
  {
   "cell_type": "code",
   "execution_count": 6,
   "metadata": {},
   "outputs": [
    {
     "name": "stdout",
     "output_type": "stream",
     "text": [
      "1855.877\n"
     ]
    }
   ],
   "source": [
    "iteration_list = []\n",
    "for time in range(1000):\n",
    "    w = np.zeros(data_train.shape[1])\n",
    "    iteration = 0\n",
    "    while(mean_squared_error(y_train, (X_train@w)) > (1.01*ein_sqr)):\n",
    "        index = np.random.randint(data_train.shape[0])\n",
    "        w = w + (0.001*(2*(y_train[index]-w@X_train[index])*X_train[index]))\n",
    "        iteration += 1\n",
    "    iteration_list.append(iteration)\n",
    "print(np.mean(iteration_list))"
   ]
  },
  {
   "cell_type": "markdown",
   "metadata": {},
   "source": [
    "## 16"
   ]
  },
  {
   "cell_type": "code",
   "execution_count": 7,
   "metadata": {},
   "outputs": [
    {
     "name": "stdout",
     "output_type": "stream",
     "text": [
      "0.5688195756735113\n"
     ]
    }
   ],
   "source": [
    "ein_ce_list = []\n",
    "for time in range(1000):\n",
    "    w = np.zeros(data_train.shape[1])\n",
    "    for _ in range(500):\n",
    "        index = np.random.randint(data_train.shape[0])\n",
    "        w = w + (0.001*(1/(1+np.exp(y_train[index]*(w@X_train[index]))))*(y_train[index]*X_train[index]))\n",
    "    ein_ce_list.append(np.log(1+np.exp(-y_train*(X_train@w))))\n",
    "print(np.mean(ein_ce_list))"
   ]
  },
  {
   "cell_type": "markdown",
   "metadata": {},
   "source": [
    "## 17"
   ]
  },
  {
   "cell_type": "code",
   "execution_count": 8,
   "metadata": {},
   "outputs": [
    {
     "name": "stdout",
     "output_type": "stream",
     "text": [
      "0.5028994254846402\n"
     ]
    }
   ],
   "source": [
    "ein_ce_list = []\n",
    "for time in range(1000):\n",
    "    w = w_lin\n",
    "    for _ in range(500):\n",
    "        index = np.random.randint(data_train.shape[0])\n",
    "        w = w + (0.001*((1/(1+np.exp(y_train[index]*(w@X_train[index])))))*(y_train[index]*X_train[index]))\n",
    "    ein_ce_list.append(np.log(1+np.exp(-y_train*(X_train@w))))\n",
    "print(np.mean(ein_ce_list))"
   ]
  },
  {
   "cell_type": "markdown",
   "metadata": {},
   "source": [
    "## 18"
   ]
  },
  {
   "cell_type": "code",
   "execution_count": 9,
   "metadata": {},
   "outputs": [
    {
     "data": {
      "text/plain": [
       "0.3226666666666666"
      ]
     },
     "execution_count": 9,
     "metadata": {},
     "output_type": "execute_result"
    }
   ],
   "source": [
    "X_test, y_test = data_construct(data_test)\n",
    "abs((sum(y_train*(X_train@w_lin) <= 0)/data_train.shape[0]) - (sum(y_test*(X_test@w_lin) <= 0)/data_test.shape[0]))"
   ]
  },
  {
   "cell_type": "markdown",
   "metadata": {},
   "source": [
    "## 19"
   ]
  },
  {
   "cell_type": "code",
   "execution_count": 10,
   "metadata": {},
   "outputs": [],
   "source": [
    "def transform(data, Q):\n",
    "    phi = np.array([1])\n",
    "    for order in range (Q):\n",
    "        phi = np.append(phi, data**(order+1))\n",
    "    return phi\n",
    "\n",
    "def dataset_transform(dataset, Q):\n",
    "    transformed = np.zeros((dataset.shape[0], (1+dataset.shape[1]*Q)))\n",
    "    for index in range(dataset.shape[0]):\n",
    "        transformed[index] = transform(dataset[index],Q)\n",
    "    return transformed"
   ]
  },
  {
   "cell_type": "code",
   "execution_count": 11,
   "metadata": {},
   "outputs": [
    {
     "data": {
      "text/plain": [
       "0.37366666666666665"
      ]
     },
     "execution_count": 11,
     "metadata": {},
     "output_type": "execute_result"
    }
   ],
   "source": [
    "X_train_transformed = dataset_transform(X_train[:, 1:],3)\n",
    "X_test_transformed = dataset_transform(X_test[:, 1:],3)\n",
    "\n",
    "w_lin_transformed = w_linear_regression(X_train_transformed, y_train)\n",
    "abs((sum(y_train*(X_train_transformed@w_lin_transformed) <= 0)/data_train.shape[0]) - (sum(y_test*(X_test_transformed@w_lin_transformed) <= 0)/data_test.shape[0]))"
   ]
  },
  {
   "cell_type": "markdown",
   "metadata": {},
   "source": [
    "## 20"
   ]
  },
  {
   "cell_type": "code",
   "execution_count": 12,
   "metadata": {},
   "outputs": [
    {
     "data": {
      "text/plain": [
       "0.446"
      ]
     },
     "execution_count": 12,
     "metadata": {},
     "output_type": "execute_result"
    }
   ],
   "source": [
    "X_train_transformed = dataset_transform(X_train[:, 1:],10)\n",
    "X_test_transformed = dataset_transform(X_test[:, 1:],10)\n",
    "\n",
    "w_lin_transformed = w_linear_regression(X_train_transformed, y_train)\n",
    "abs((sum(y_train*(X_train_transformed@w_lin_transformed) <= 0)/data_train.shape[0]) - (sum(y_test*(X_test_transformed@w_lin_transformed) <= 0)/data_test.shape[0]))"
   ]
  }
 ],
 "metadata": {
  "kernelspec": {
   "display_name": "Python 3",
   "language": "python",
   "name": "python3"
  },
  "language_info": {
   "codemirror_mode": {
    "name": "ipython",
    "version": 3
   },
   "file_extension": ".py",
   "mimetype": "text/x-python",
   "name": "python",
   "nbconvert_exporter": "python",
   "pygments_lexer": "ipython3",
   "version": "3.7.3"
  }
 },
 "nbformat": 4,
 "nbformat_minor": 2
}
