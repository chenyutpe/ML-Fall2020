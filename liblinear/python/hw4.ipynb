{
 "cells": [
  {
   "cell_type": "markdown",
   "metadata": {},
   "source": [
    "先比較README的 min_w w^Tw/2 + C \\sum log(1 + exp(-y_i w^Tx_i)) 和題目要求\n",
    "\n",
    "可得 $C = \\frac{1}{2\\lambda}$"
   ]
  },
  {
   "cell_type": "code",
   "execution_count": 1,
   "metadata": {},
   "outputs": [],
   "source": [
    "import scipy\n",
    "from liblinearutil import *"
   ]
  },
  {
   "cell_type": "code",
   "execution_count": 2,
   "metadata": {},
   "outputs": [
    {
     "name": "stdout",
     "output_type": "stream",
     "text": [
      "[[ 0.991  0.8    1.    ...  0.941  1.     1.   ]\n",
      " [ 0.95   1.     0.8   ...  0.953  1.     1.   ]\n",
      " [ 0.866  0.6    0.8   ...  0.816  0.    -1.   ]\n",
      " ...\n",
      " [ 0.966  0.8    0.8   ...  0.93   1.     1.   ]\n",
      " [ 0.85   0.6    0.7   ...  0.856  0.    -1.   ]\n",
      " [ 0.841  0.4    0.6   ...  0.796  0.    -1.   ]]\n",
      "(200, 7) \n",
      "\n",
      "[[ 0.825  0.4    0.8   ...  0.766  0.    -1.   ]\n",
      " [ 0.766  0.2    0.4   ...  0.794  0.    -1.   ]\n",
      " [ 0.941  1.     0.8   ...  0.935  1.     1.   ]\n",
      " ...\n",
      " [ 0.925  0.8    0.8   ...  0.904  1.     1.   ]\n",
      " [ 0.925  0.8    0.9   ...  0.93   1.     1.   ]\n",
      " [ 0.9    1.     0.9   ...  0.909  1.     1.   ]]\n",
      "(300, 7)\n"
     ]
    }
   ],
   "source": [
    "data_train = scipy.loadtxt('hw4_train.dat')\n",
    "data_test = scipy.loadtxt('hw4_test.dat')\n",
    "print(data_train)\n",
    "print(data_train.shape, '\\n')\n",
    "print(data_test)\n",
    "print(data_test.shape)"
   ]
  },
  {
   "cell_type": "code",
   "execution_count": 3,
   "metadata": {},
   "outputs": [],
   "source": [
    "def data_constuct(dataset):\n",
    "    y = dataset[:, -1]\n",
    "    x = dataset[:, :-1]\n",
    "    for i in range(6):\n",
    "        for j in range(i, 6):\n",
    "            x = scipy.hstack([x, scipy.reshape(x[:, i]*x[:, j], (dataset.shape[0], 1))])\n",
    "    x = scipy.hstack([scipy.full((dataset.shape[0], 1), 1), x])\n",
    "    return y, x"
   ]
  },
  {
   "cell_type": "code",
   "execution_count": 4,
   "metadata": {},
   "outputs": [],
   "source": [
    "y_train, x_train = data_constuct(data_train)\n",
    "y_test, x_test = data_constuct(data_test)"
   ]
  },
  {
   "cell_type": "markdown",
   "metadata": {},
   "source": [
    "## 16"
   ]
  },
  {
   "cell_type": "markdown",
   "metadata": {},
   "source": [
    "$\\lambda=10^{-4}$"
   ]
  },
  {
   "cell_type": "code",
   "execution_count": 5,
   "metadata": {},
   "outputs": [
    {
     "name": "stdout",
     "output_type": "stream",
     "text": [
      "Accuracy = 86.6667% (260/300) (classification)\n"
     ]
    }
   ],
   "source": [
    "prob = problem(y_train, x_train)\n",
    "param = parameter('-s 0 -c 5000 -e 0.000001')\n",
    "m = train(prob, param)\n",
    "p_label, p_acc, p_val = predict(y_test, x_test, m)"
   ]
  },
  {
   "cell_type": "markdown",
   "metadata": {},
   "source": [
    "$\\lambda=10^{-2}$"
   ]
  },
  {
   "cell_type": "code",
   "execution_count": 6,
   "metadata": {},
   "outputs": [
    {
     "name": "stdout",
     "output_type": "stream",
     "text": [
      "Accuracy = 87% (261/300) (classification)\n"
     ]
    }
   ],
   "source": [
    "prob = problem(y_train, x_train)\n",
    "param = parameter('-s 0 -c 50 -e 0.000001')\n",
    "m = train(prob, param)\n",
    "p_label, p_acc, p_val = predict(y_test, x_test, m)"
   ]
  },
  {
   "cell_type": "markdown",
   "metadata": {},
   "source": [
    "$\\lambda=10^{0}$"
   ]
  },
  {
   "cell_type": "code",
   "execution_count": 7,
   "metadata": {},
   "outputs": [
    {
     "name": "stdout",
     "output_type": "stream",
     "text": [
      "Accuracy = 80.6667% (242/300) (classification)\n"
     ]
    }
   ],
   "source": [
    "prob = problem(y_train, x_train)\n",
    "param = parameter('-s 0 -c 0.5 -e 0.000001')\n",
    "m = train(prob, param)\n",
    "p_label, p_acc, p_val = predict(y_test, x_test, m)"
   ]
  },
  {
   "cell_type": "markdown",
   "metadata": {},
   "source": [
    "$\\lambda=10^{2}$"
   ]
  },
  {
   "cell_type": "code",
   "execution_count": 8,
   "metadata": {},
   "outputs": [
    {
     "name": "stdout",
     "output_type": "stream",
     "text": [
      "Accuracy = 74.3333% (223/300) (classification)\n"
     ]
    }
   ],
   "source": [
    "prob = problem(y_train, x_train)\n",
    "param = parameter('-s 0 -c 0.005 -e 0.000001')\n",
    "m = train(prob, param)\n",
    "p_label, p_acc, p_val = predict(y_test, x_test, m)"
   ]
  },
  {
   "cell_type": "markdown",
   "metadata": {},
   "source": [
    "$\\lambda=10^{4}$"
   ]
  },
  {
   "cell_type": "code",
   "execution_count": 9,
   "metadata": {},
   "outputs": [
    {
     "name": "stdout",
     "output_type": "stream",
     "text": [
      "Accuracy = 51.6667% (155/300) (classification)\n"
     ]
    }
   ],
   "source": [
    "prob = problem(y_train, x_train)\n",
    "param = parameter('-s 0 -c 0.00005 -e 0.000001')\n",
    "m = train(prob, param)\n",
    "p_label, p_acc, p_val = predict(y_test, x_test, m)"
   ]
  },
  {
   "cell_type": "markdown",
   "metadata": {},
   "source": [
    "best $\\lambda^*=10^{-2}$"
   ]
  },
  {
   "cell_type": "markdown",
   "metadata": {},
   "source": [
    "## 17"
   ]
  },
  {
   "cell_type": "markdown",
   "metadata": {},
   "source": [
    "$\\lambda=10^{-4}$"
   ]
  },
  {
   "cell_type": "code",
   "execution_count": 10,
   "metadata": {},
   "outputs": [
    {
     "name": "stdout",
     "output_type": "stream",
     "text": [
      "Accuracy = 91% (182/200) (classification)\n"
     ]
    }
   ],
   "source": [
    "prob = problem(y_train, x_train)\n",
    "param = parameter('-s 0 -c 5000 -e 0.000001')\n",
    "m = train(prob, param)\n",
    "p_label, p_acc, p_val = predict(y_train, x_train, m)"
   ]
  },
  {
   "cell_type": "markdown",
   "metadata": {},
   "source": [
    "$\\lambda=10^{-2}$"
   ]
  },
  {
   "cell_type": "code",
   "execution_count": 11,
   "metadata": {},
   "outputs": [
    {
     "name": "stdout",
     "output_type": "stream",
     "text": [
      "Accuracy = 90% (180/200) (classification)\n"
     ]
    }
   ],
   "source": [
    "prob = problem(y_train, x_train)\n",
    "param = parameter('-s 0 -c 50 -e 0.000001')\n",
    "m = train(prob, param)\n",
    "p_label, p_acc, p_val = predict(y_train, x_train, m)"
   ]
  },
  {
   "cell_type": "markdown",
   "metadata": {},
   "source": [
    "$\\lambda=10^{0}$"
   ]
  },
  {
   "cell_type": "code",
   "execution_count": 12,
   "metadata": {},
   "outputs": [
    {
     "name": "stdout",
     "output_type": "stream",
     "text": [
      "Accuracy = 87% (174/200) (classification)\n"
     ]
    }
   ],
   "source": [
    "prob = problem(y_train, x_train)\n",
    "param = parameter('-s 0 -c 0.5 -e 0.000001')\n",
    "m = train(prob, param)\n",
    "p_label, p_acc, p_val = predict(y_train, x_train, m)"
   ]
  },
  {
   "cell_type": "markdown",
   "metadata": {},
   "source": [
    "$\\lambda=10^{2}$"
   ]
  },
  {
   "cell_type": "code",
   "execution_count": 13,
   "metadata": {},
   "outputs": [
    {
     "name": "stdout",
     "output_type": "stream",
     "text": [
      "Accuracy = 80.5% (161/200) (classification)\n"
     ]
    }
   ],
   "source": [
    "prob = problem(y_train, x_train)\n",
    "param = parameter('-s 0 -c 0.005 -e 0.000001')\n",
    "m = train(prob, param)\n",
    "p_label, p_acc, p_val = predict(y_train, x_train, m)"
   ]
  },
  {
   "cell_type": "markdown",
   "metadata": {},
   "source": [
    "$\\lambda=10^{4}$"
   ]
  },
  {
   "cell_type": "code",
   "execution_count": 14,
   "metadata": {},
   "outputs": [
    {
     "name": "stdout",
     "output_type": "stream",
     "text": [
      "Accuracy = 46.5% (93/200) (classification)\n"
     ]
    }
   ],
   "source": [
    "prob = problem(y_train, x_train)\n",
    "param = parameter('-s 0 -c 0.00005 -e 0.000001')\n",
    "m = train(prob, param)\n",
    "p_label, p_acc, p_val = predict(y_train, x_train, m)"
   ]
  },
  {
   "cell_type": "markdown",
   "metadata": {},
   "source": [
    "best $\\lambda^*=10^{-4}$"
   ]
  },
  {
   "cell_type": "markdown",
   "metadata": {},
   "source": [
    "## 18"
   ]
  },
  {
   "cell_type": "code",
   "execution_count": 15,
   "metadata": {},
   "outputs": [
    {
     "name": "stdout",
     "output_type": "stream",
     "text": [
      "120 80 120 80\n"
     ]
    }
   ],
   "source": [
    "y_train_train = y_train[:120]\n",
    "y_train_val = y_train[120:]\n",
    "x_train_train = x_train[:120]\n",
    "x_train_val = x_train[120:]\n",
    "# check\n",
    "print(y_train_train.shape[0], y_train_val.shape[0], x_train_train.shape[0], x_train_val.shape[0])"
   ]
  },
  {
   "cell_type": "markdown",
   "metadata": {},
   "source": [
    "$\\lambda=10^{-4}$"
   ]
  },
  {
   "cell_type": "code",
   "execution_count": 16,
   "metadata": {},
   "outputs": [
    {
     "name": "stdout",
     "output_type": "stream",
     "text": [
      "Accuracy = 80% (64/80) (classification)\n"
     ]
    }
   ],
   "source": [
    "prob = problem(y_train_train, x_train_train)\n",
    "param = parameter('-s 0 -c 5000 -e 0.000001')\n",
    "m = train(prob, param)\n",
    "p_label, p_acc, p_val = predict(y_train_val, x_train_val, m)"
   ]
  },
  {
   "cell_type": "markdown",
   "metadata": {},
   "source": [
    "$\\lambda=10^{-2}$"
   ]
  },
  {
   "cell_type": "code",
   "execution_count": 17,
   "metadata": {},
   "outputs": [
    {
     "name": "stdout",
     "output_type": "stream",
     "text": [
      "Accuracy = 86.25% (69/80) (classification)\n"
     ]
    }
   ],
   "source": [
    "prob = problem(y_train_train, x_train_train)\n",
    "param = parameter('-s 0 -c 50 -e 0.000001')\n",
    "m = train(prob, param)\n",
    "p_label, p_acc, p_val = predict(y_train_val, x_train_val, m)"
   ]
  },
  {
   "cell_type": "markdown",
   "metadata": {},
   "source": [
    "$\\lambda=10^{0}$"
   ]
  },
  {
   "cell_type": "code",
   "execution_count": 18,
   "metadata": {},
   "outputs": [
    {
     "name": "stdout",
     "output_type": "stream",
     "text": [
      "Accuracy = 76.25% (61/80) (classification)\n"
     ]
    }
   ],
   "source": [
    "prob = problem(y_train_train, x_train_train)\n",
    "param = parameter('-s 0 -c 0.5 -e 0.000001')\n",
    "m = train(prob, param)\n",
    "p_label, p_acc, p_val = predict(y_train_val, x_train_val, m)"
   ]
  },
  {
   "cell_type": "markdown",
   "metadata": {},
   "source": [
    "$\\lambda=10^{2}$"
   ]
  },
  {
   "cell_type": "code",
   "execution_count": 19,
   "metadata": {},
   "outputs": [
    {
     "name": "stdout",
     "output_type": "stream",
     "text": [
      "Accuracy = 73.75% (59/80) (classification)\n"
     ]
    }
   ],
   "source": [
    "prob = problem(y_train_train, x_train_train)\n",
    "param = parameter('-s 0 -c 0.005 -e 0.000001')\n",
    "m = train(prob, param)\n",
    "p_label, p_acc, p_val = predict(y_train_val, x_train_val, m)"
   ]
  },
  {
   "cell_type": "markdown",
   "metadata": {},
   "source": [
    "$\\lambda=10^{4}$"
   ]
  },
  {
   "cell_type": "code",
   "execution_count": 20,
   "metadata": {},
   "outputs": [
    {
     "name": "stdout",
     "output_type": "stream",
     "text": [
      "Accuracy = 42.5% (34/80) (classification)\n"
     ]
    }
   ],
   "source": [
    "prob = problem(y_train_train, x_train_train)\n",
    "param = parameter('-s 0 -c 0.00005 -e 0.000001')\n",
    "m = train(prob, param)\n",
    "p_label, p_acc, p_val = predict(y_train_val, x_train_val, m)"
   ]
  },
  {
   "cell_type": "markdown",
   "metadata": {},
   "source": [
    "best $\\lambda^*=10^{-2}$, now estimate $E_{out}(w^-_{\\lambda^*})$"
   ]
  },
  {
   "cell_type": "code",
   "execution_count": 21,
   "metadata": {},
   "outputs": [
    {
     "name": "stdout",
     "output_type": "stream",
     "text": [
      "Accuracy = 85.6667% (257/300) (classification)\n"
     ]
    }
   ],
   "source": [
    "prob = problem(y_train_train, x_train_train)\n",
    "param = parameter('-s 0 -c 50 -e 0.000001')\n",
    "m = train(prob, param)\n",
    "p_label, p_acc, p_val = predict(y_test, x_test, m)"
   ]
  },
  {
   "cell_type": "markdown",
   "metadata": {},
   "source": [
    "## 19"
   ]
  },
  {
   "cell_type": "code",
   "execution_count": 22,
   "metadata": {},
   "outputs": [
    {
     "name": "stdout",
     "output_type": "stream",
     "text": [
      "Accuracy = 87% (261/300) (classification)\n"
     ]
    }
   ],
   "source": [
    "prob = problem(y_train, x_train)\n",
    "param = parameter('-s 0 -c 50 -e 0.000001')\n",
    "m = train(prob, param)\n",
    "p_label, p_acc, p_val = predict(y_test, x_test, m)"
   ]
  },
  {
   "cell_type": "markdown",
   "metadata": {},
   "source": [
    "## 20"
   ]
  },
  {
   "cell_type": "code",
   "execution_count": 23,
   "metadata": {},
   "outputs": [],
   "source": [
    "y_train_fold = scipy.split(y_train, 5)\n",
    "x_train_fold = scipy.split(x_train, 5)"
   ]
  },
  {
   "cell_type": "markdown",
   "metadata": {},
   "source": [
    "$\\lambda=10^{-4}$"
   ]
  },
  {
   "cell_type": "code",
   "execution_count": 24,
   "metadata": {},
   "outputs": [
    {
     "name": "stdout",
     "output_type": "stream",
     "text": [
      "Accuracy = 87.5% (35/40) (classification)\n",
      "Accuracy = 77.5% (31/40) (classification)\n",
      "Accuracy = 95% (38/40) (classification)\n",
      "Accuracy = 77.5% (31/40) (classification)\n",
      "Accuracy = 90% (36/40) (classification)\n",
      "E_cv= 0.145\n"
     ]
    }
   ],
   "source": [
    "e_cv = 0\n",
    "for i in range(5):\n",
    "    prob = problem(scipy.concatenate(scipy.delete(y_train_fold, i, 0)), scipy.concatenate(scipy.delete(x_train_fold, i, 0)))\n",
    "    param = parameter('-s 0 -c 5000 -e 0.000001')\n",
    "    m = train(prob, param)\n",
    "    p_label, p_acc, p_val = predict(y_train_fold[i], x_train_fold[i], m)\n",
    "    e_cv += (1-p_acc[0]/100)\n",
    "e_cv /= 5\n",
    "print(\"E_cv=\", e_cv)"
   ]
  },
  {
   "cell_type": "markdown",
   "metadata": {},
   "source": [
    "$\\lambda=10^{-2}$"
   ]
  },
  {
   "cell_type": "code",
   "execution_count": 25,
   "metadata": {},
   "outputs": [
    {
     "name": "stdout",
     "output_type": "stream",
     "text": [
      "Accuracy = 85% (34/40) (classification)\n",
      "Accuracy = 80% (32/40) (classification)\n",
      "Accuracy = 95% (38/40) (classification)\n",
      "Accuracy = 85% (34/40) (classification)\n",
      "Accuracy = 95% (38/40) (classification)\n",
      "E_cv= 0.12000000000000002\n"
     ]
    }
   ],
   "source": [
    "e_cv = 0\n",
    "for i in range(5):\n",
    "    prob = problem(scipy.concatenate(scipy.delete(y_train_fold, i, 0)), scipy.concatenate(scipy.delete(x_train_fold, i, 0)))\n",
    "    param = parameter('-s 0 -c 50 -e 0.000001')\n",
    "    m = train(prob, param)\n",
    "    p_label, p_acc, p_val = predict(y_train_fold[i], x_train_fold[i], m)\n",
    "    e_cv += (1-p_acc[0]/100)\n",
    "e_cv /= 5\n",
    "print(\"E_cv=\", e_cv)"
   ]
  },
  {
   "cell_type": "markdown",
   "metadata": {},
   "source": [
    "$\\lambda=10^{0}$"
   ]
  },
  {
   "cell_type": "code",
   "execution_count": 26,
   "metadata": {},
   "outputs": [
    {
     "name": "stdout",
     "output_type": "stream",
     "text": [
      "Accuracy = 80% (32/40) (classification)\n",
      "Accuracy = 90% (36/40) (classification)\n",
      "Accuracy = 90% (36/40) (classification)\n",
      "Accuracy = 80% (32/40) (classification)\n",
      "Accuracy = 82.5% (33/40) (classification)\n",
      "E_cv= 0.15499999999999997\n"
     ]
    }
   ],
   "source": [
    "e_cv = 0\n",
    "for i in range(5):\n",
    "    prob = problem(scipy.concatenate(scipy.delete(y_train_fold, i, 0)), scipy.concatenate(scipy.delete(x_train_fold, i, 0)))\n",
    "    param = parameter('-s 0 -c 0.5 -e 0.000001')\n",
    "    m = train(prob, param)\n",
    "    p_label, p_acc, p_val = predict(y_train_fold[i], x_train_fold[i], m)\n",
    "    e_cv += (1-p_acc[0]/100)\n",
    "e_cv /= 5\n",
    "print(\"E_cv=\", e_cv)"
   ]
  },
  {
   "cell_type": "markdown",
   "metadata": {},
   "source": [
    "$\\lambda=10^{2}$"
   ]
  },
  {
   "cell_type": "code",
   "execution_count": 27,
   "metadata": {},
   "outputs": [
    {
     "name": "stdout",
     "output_type": "stream",
     "text": [
      "Accuracy = 77.5% (31/40) (classification)\n",
      "Accuracy = 92.5% (37/40) (classification)\n",
      "Accuracy = 85% (34/40) (classification)\n",
      "Accuracy = 75% (30/40) (classification)\n",
      "Accuracy = 80% (32/40) (classification)\n",
      "E_cv= 0.18\n"
     ]
    }
   ],
   "source": [
    "e_cv = 0\n",
    "for i in range(5):\n",
    "    prob = problem(scipy.concatenate(scipy.delete(y_train_fold, i, 0)), scipy.concatenate(scipy.delete(x_train_fold, i, 0)))\n",
    "    param = parameter('-s 0 -c 0.005 -e 0.000001')\n",
    "    m = train(prob, param)\n",
    "    p_label, p_acc, p_val = predict(y_train_fold[i], x_train_fold[i], m)\n",
    "    e_cv += (1-p_acc[0]/100)\n",
    "e_cv /= 5\n",
    "print(\"E_cv=\", e_cv)"
   ]
  },
  {
   "cell_type": "markdown",
   "metadata": {},
   "source": [
    "$\\lambda=10^{4}$"
   ]
  },
  {
   "cell_type": "code",
   "execution_count": 28,
   "metadata": {},
   "outputs": [
    {
     "name": "stdout",
     "output_type": "stream",
     "text": [
      "Accuracy = 42.5% (17/40) (classification)\n",
      "Accuracy = 65% (26/40) (classification)\n",
      "Accuracy = 47.5% (19/40) (classification)\n",
      "Accuracy = 40% (16/40) (classification)\n",
      "Accuracy = 45% (18/40) (classification)\n",
      "E_cv= 0.5199999999999999\n"
     ]
    }
   ],
   "source": [
    "e_cv = 0\n",
    "for i in range(5):\n",
    "    prob = problem(scipy.concatenate(scipy.delete(y_train_fold, i, 0)), scipy.concatenate(scipy.delete(x_train_fold, i, 0)))\n",
    "    param = parameter('-s 0 -c 0.00005 -e 0.000001')\n",
    "    m = train(prob, param)\n",
    "    p_label, p_acc, p_val = predict(y_train_fold[i], x_train_fold[i], m)\n",
    "    e_cv += (1-p_acc[0]/100)\n",
    "e_cv /= 5\n",
    "print(\"E_cv=\", e_cv)"
   ]
  },
  {
   "cell_type": "markdown",
   "metadata": {},
   "source": [
    "best $\\lambda^*=10^{-2}$, $E_{cv}(\\mathcal{A}_{\\lambda^*})=0.12$"
   ]
  }
 ],
 "metadata": {
  "kernelspec": {
   "display_name": "Python 3",
   "language": "python",
   "name": "python3"
  },
  "language_info": {
   "codemirror_mode": {
    "name": "ipython",
    "version": 3
   },
   "file_extension": ".py",
   "mimetype": "text/x-python",
   "name": "python",
   "nbconvert_exporter": "python",
   "pygments_lexer": "ipython3",
   "version": "3.7.3"
  }
 },
 "nbformat": 4,
 "nbformat_minor": 2
}
