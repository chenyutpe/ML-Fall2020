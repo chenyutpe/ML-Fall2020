{
 "cells": [
  {
   "cell_type": "code",
   "execution_count": 1,
   "metadata": {},
   "outputs": [],
   "source": [
    "import random\n",
    "import scipy\n",
    "from svmutil import *"
   ]
  },
  {
   "cell_type": "code",
   "execution_count": 2,
   "metadata": {},
   "outputs": [],
   "source": [
    "y, x = svm_read_problem('../satimage.scale.txt', return_scipy=True)\n",
    "yt, xt = svm_read_problem('../satimage.scale.t.txt', return_scipy=True)"
   ]
  },
  {
   "cell_type": "markdown",
   "metadata": {},
   "source": [
    "## 15"
   ]
  },
  {
   "cell_type": "code",
   "execution_count": 3,
   "metadata": {},
   "outputs": [],
   "source": [
    "y3 = (y==3).astype(int)"
   ]
  },
  {
   "cell_type": "code",
   "execution_count": 4,
   "metadata": {},
   "outputs": [],
   "source": [
    "m = svm_train(y3, x, '-t 0 -c 10')"
   ]
  },
  {
   "cell_type": "code",
   "execution_count": 5,
   "metadata": {},
   "outputs": [
    {
     "data": {
      "text/plain": [
       "8.459972213042809"
      ]
     },
     "execution_count": 5,
     "metadata": {},
     "output_type": "execute_result"
    }
   ],
   "source": [
    "w = scipy.array(m.get_sv_coef()).T @ x.toarray()[scipy.array(m.get_sv_indices())-1]\n",
    "scipy.linalg.norm(w)"
   ]
  },
  {
   "cell_type": "markdown",
   "metadata": {},
   "source": [
    "## 16"
   ]
  },
  {
   "cell_type": "code",
   "execution_count": 6,
   "metadata": {},
   "outputs": [],
   "source": [
    "y1 = (y==1).astype(int)\n",
    "y2 = (y==2).astype(int)\n",
    "y4 = (y==4).astype(int)\n",
    "y5 = (y==5).astype(int)"
   ]
  },
  {
   "cell_type": "code",
   "execution_count": 7,
   "metadata": {},
   "outputs": [
    {
     "name": "stdout",
     "output_type": "stream",
     "text": [
      "Accuracy = 99.9324% (4432/4435) (classification)\n"
     ]
    }
   ],
   "source": [
    "m1 = svm_train(y1, x, '-t 1 -d 2 -g 1 -r 1 -c 10')\n",
    "p_label, p_acc, p_val = svm_predict(y1, x, m1)"
   ]
  },
  {
   "cell_type": "code",
   "execution_count": 8,
   "metadata": {},
   "outputs": [
    {
     "name": "stdout",
     "output_type": "stream",
     "text": [
      "Accuracy = 100% (4435/4435) (classification)\n"
     ]
    }
   ],
   "source": [
    "m2 = svm_train(y2, x, '-t 1 -d 2 -g 1 -r 1 -c 10')\n",
    "p_label, p_acc, p_val = svm_predict(y2, x, m2)"
   ]
  },
  {
   "cell_type": "code",
   "execution_count": 9,
   "metadata": {},
   "outputs": [
    {
     "name": "stdout",
     "output_type": "stream",
     "text": [
      "Accuracy = 97.7678% (4336/4435) (classification)\n"
     ]
    }
   ],
   "source": [
    "m3 = svm_train(y3, x, '-t 1 -d 2 -g 1 -r 1 -c 10')\n",
    "p_label, p_acc, p_val = svm_predict(y3, x, m3)"
   ]
  },
  {
   "cell_type": "code",
   "execution_count": 10,
   "metadata": {},
   "outputs": [
    {
     "name": "stdout",
     "output_type": "stream",
     "text": [
      "Accuracy = 95.9865% (4257/4435) (classification)\n"
     ]
    }
   ],
   "source": [
    "m4 = svm_train(y4, x, '-t 1 -d 2 -g 1 -r 1 -c 10')\n",
    "p_label, p_acc, p_val = svm_predict(y4, x, m4)"
   ]
  },
  {
   "cell_type": "code",
   "execution_count": 11,
   "metadata": {},
   "outputs": [
    {
     "name": "stdout",
     "output_type": "stream",
     "text": [
      "Accuracy = 99.3236% (4405/4435) (classification)\n"
     ]
    }
   ],
   "source": [
    "m5 = svm_train(y5, x, '-t 1 -d 2 -g 1 -r 1 -c 10')\n",
    "p_label, p_acc, p_val = svm_predict(y5, x, m5)"
   ]
  },
  {
   "cell_type": "markdown",
   "metadata": {},
   "source": [
    "## 17"
   ]
  },
  {
   "cell_type": "code",
   "execution_count": 12,
   "metadata": {},
   "outputs": [
    {
     "name": "stdout",
     "output_type": "stream",
     "text": [
      "145 87 433 711 258\n"
     ]
    }
   ],
   "source": [
    "print(m1.get_nr_sv(), m2.get_nr_sv(), m3.get_nr_sv(), m4.get_nr_sv(), m5.get_nr_sv())"
   ]
  },
  {
   "cell_type": "markdown",
   "metadata": {},
   "source": [
    "## 18"
   ]
  },
  {
   "cell_type": "code",
   "execution_count": 13,
   "metadata": {},
   "outputs": [],
   "source": [
    "y6 = (y==6).astype(int)\n",
    "yt6 = (yt==6).astype(int)"
   ]
  },
  {
   "cell_type": "code",
   "execution_count": 14,
   "metadata": {},
   "outputs": [
    {
     "name": "stdout",
     "output_type": "stream",
     "text": [
      "Accuracy = 76.5% (1530/2000) (classification)\n"
     ]
    }
   ],
   "source": [
    "m = svm_train(y6, x, '-g 10 -c 0.01')\n",
    "p_label, p_acc, p_val = svm_predict(yt6, xt, m)"
   ]
  },
  {
   "cell_type": "code",
   "execution_count": 15,
   "metadata": {},
   "outputs": [
    {
     "name": "stdout",
     "output_type": "stream",
     "text": [
      "Accuracy = 83.65% (1673/2000) (classification)\n"
     ]
    }
   ],
   "source": [
    "m = svm_train(y6, x, '-g 10 -c 0.1')\n",
    "p_label, p_acc, p_val = svm_predict(yt6, xt, m)"
   ]
  },
  {
   "cell_type": "code",
   "execution_count": 16,
   "metadata": {},
   "outputs": [
    {
     "name": "stdout",
     "output_type": "stream",
     "text": [
      "Accuracy = 89.35% (1787/2000) (classification)\n"
     ]
    }
   ],
   "source": [
    "m = svm_train(y6, x, '-g 10 -c 1')\n",
    "p_label, p_acc, p_val = svm_predict(yt6, xt, m)"
   ]
  },
  {
   "cell_type": "code",
   "execution_count": 17,
   "metadata": {},
   "outputs": [
    {
     "name": "stdout",
     "output_type": "stream",
     "text": [
      "Accuracy = 90.3% (1806/2000) (classification)\n"
     ]
    }
   ],
   "source": [
    "m = svm_train(y6, x, '-g 10 -c 10')\n",
    "p_label, p_acc, p_val = svm_predict(yt6, xt, m)"
   ]
  },
  {
   "cell_type": "code",
   "execution_count": 18,
   "metadata": {},
   "outputs": [
    {
     "name": "stdout",
     "output_type": "stream",
     "text": [
      "Accuracy = 90.3% (1806/2000) (classification)\n"
     ]
    }
   ],
   "source": [
    "m = svm_train(y6, x, '-g 10 -c 100')\n",
    "p_label, p_acc, p_val = svm_predict(yt6, xt, m)"
   ]
  },
  {
   "cell_type": "markdown",
   "metadata": {},
   "source": [
    "## 19"
   ]
  },
  {
   "cell_type": "code",
   "execution_count": 19,
   "metadata": {},
   "outputs": [
    {
     "name": "stdout",
     "output_type": "stream",
     "text": [
      "Accuracy = 90.15% (1803/2000) (classification)\n"
     ]
    }
   ],
   "source": [
    "m = svm_train(y6, x, '-g 0.1 -c 0.1')\n",
    "p_label, p_acc, p_val = svm_predict(yt6, xt, m)"
   ]
  },
  {
   "cell_type": "code",
   "execution_count": 20,
   "metadata": {},
   "outputs": [
    {
     "name": "stdout",
     "output_type": "stream",
     "text": [
      "Accuracy = 93% (1860/2000) (classification)\n"
     ]
    }
   ],
   "source": [
    "m = svm_train(y6, x, '-g 1 -c 0.1')\n",
    "p_label, p_acc, p_val = svm_predict(yt6, xt, m)"
   ]
  },
  {
   "cell_type": "code",
   "execution_count": 21,
   "metadata": {},
   "outputs": [
    {
     "name": "stdout",
     "output_type": "stream",
     "text": [
      "Accuracy = 83.65% (1673/2000) (classification)\n"
     ]
    }
   ],
   "source": [
    "m = svm_train(y6, x, '-g 10 -c 0.1')\n",
    "p_label, p_acc, p_val = svm_predict(yt6, xt, m)"
   ]
  },
  {
   "cell_type": "code",
   "execution_count": 22,
   "metadata": {},
   "outputs": [
    {
     "name": "stdout",
     "output_type": "stream",
     "text": [
      "Accuracy = 76.5% (1530/2000) (classification)\n"
     ]
    }
   ],
   "source": [
    "m = svm_train(y6, x, '-g 100 -c 0.1')\n",
    "p_label, p_acc, p_val = svm_predict(yt6, xt, m)"
   ]
  },
  {
   "cell_type": "code",
   "execution_count": 23,
   "metadata": {},
   "outputs": [
    {
     "name": "stdout",
     "output_type": "stream",
     "text": [
      "Accuracy = 76.5% (1530/2000) (classification)\n"
     ]
    }
   ],
   "source": [
    "m = svm_train(y6, x, '-g 1000 -c 0.1')\n",
    "p_label, p_acc, p_val = svm_predict(yt6, xt, m)"
   ]
  },
  {
   "cell_type": "markdown",
   "metadata": {},
   "source": [
    "## 20"
   ]
  },
  {
   "cell_type": "code",
   "execution_count": 24,
   "metadata": {},
   "outputs": [
    {
     "name": "stdout",
     "output_type": "stream",
     "text": [
      "Accuracy = 76.5% (153/200) (classification)\n",
      "Accuracy = 76.5% (153/200) (classification)\n",
      "Accuracy = 76.5% (153/200) (classification)\n",
      "Accuracy = 76.5% (153/200) (classification)\n",
      "Accuracy = 76.5% (153/200) (classification)\n",
      "Accuracy = 66.5% (133/200) (classification)\n",
      "Accuracy = 66.5% (133/200) (classification)\n",
      "Accuracy = 66.5% (133/200) (classification)\n",
      "Accuracy = 66.5% (133/200) (classification)\n",
      "Accuracy = 66.5% (133/200) (classification)\n"
     ]
    },
    {
     "data": {
      "text/plain": [
       "0.1"
      ]
     },
     "execution_count": 24,
     "metadata": {},
     "output_type": "execute_result"
    }
   ],
   "source": [
    "gamma_select = [0,0,0,0,0] # times of 0.1, 1, 10, 100, 1000\n",
    "params = ['-g 0.1 -c 0.1','-g 1 -c 0.1','-g 10 -c 0.1','-g 100 -c 0.1','-g 1000 -c 0.1']\n",
    "for _ in range(1000):\n",
    "    val = random.sample(range(y.shape[0]), 200)\n",
    "    y_val, x_val = y6[val], x[val]\n",
    "    y_train, x_train = scipy.delete(y6, val), x[list(set(range(y.shape[0])) - set(val))]\n",
    "    #print(x_val, x_val.shape, x_train, x_train.shape)\n",
    "    best_acc, best_gamma_index = 0, 0\n",
    "    for i in range(5):\n",
    "        m = svm_train(y_train, x_train, params[i])\n",
    "        p_label, p_acc, p_val = svm_predict(y_val, x_val, m)\n",
    "        if (p_acc[0] > best_acc):\n",
    "            best_acc, best_gamma_index = p_acc[0], i\n",
    "    gamma_select[best_gamma_index] += 1\n",
    "10 ** (gamma_select.index(max(gamma_select))-1)"
   ]
  }
 ],
 "metadata": {
  "kernelspec": {
   "display_name": "Python 3",
   "language": "python",
   "name": "python3"
  },
  "language_info": {
   "codemirror_mode": {
    "name": "ipython",
    "version": 3
   },
   "file_extension": ".py",
   "mimetype": "text/x-python",
   "name": "python",
   "nbconvert_exporter": "python",
   "pygments_lexer": "ipython3",
   "version": "3.7.3"
  }
 },
 "nbformat": 4,
 "nbformat_minor": 2
}
